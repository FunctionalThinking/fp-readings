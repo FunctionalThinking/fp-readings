{
 "cells": [
  {
   "cell_type": "markdown",
   "metadata": {},
   "source": [
    "## Understanding monad transformers by building one\n",
    "\n",
    "`MaybeT`는 `Control.Monad.Trans.Maybe`(transformers)에 정의되어 있으나, 직접 구현해보자."
   ]
  },
  {
   "cell_type": "code",
   "execution_count": 39,
   "metadata": {
    "collapsed": false
   },
   "outputs": [],
   "source": [
    "{-# LANGUAGE FlexibleInstances,MultiParamTypeClasses, UndecidableInstances #-}\n",
    "module MaybeT (\n",
    "  MaybeT(..),\n",
    "  runMaybeT\n",
    ") where\n",
    "\n",
    "import Control.Monad\n",
    "import Control.Monad.Trans\n",
    "import Control.Monad.Writer\n",
    "\n",
    "newtype MaybeT m a = MaybeT {\n",
    "    runMaybeT :: m (Maybe a)\n",
    "}\n",
    "\n",
    "bindMT :: (Monad m) => MaybeT m a -> (a -> MaybeT m b) -> MaybeT m b\n",
    "x `bindMT` f = MaybeT $ do\n",
    "                unwrapped <- runMaybeT x\n",
    "                case unwrapped of\n",
    "                    Nothing -> return Nothing\n",
    "                    Just y -> runMaybeT (f y)\n",
    "\n",
    "returnMT :: (Monad m) => a -> MaybeT m a\n",
    "returnMT a = MaybeT $ return (Just a)\n",
    "\n",
    "failMT :: (Monad m) => t -> MaybeT m a\n",
    "failMT _ = MaybeT $ return Nothing\n",
    "\n",
    "instance (Monad m) => Functor (MaybeT m) where\n",
    " fmap = liftM\n",
    "\n",
    "instance (Monad m) => Applicative (MaybeT m) where\n",
    " pure = return\n",
    " (<*>) = ap\n",
    " \n",
    "instance (Monad m) => Monad (MaybeT m) where\n",
    " return = returnMT\n",
    " (>>=) = bindMT\n",
    " fail = failMT\n",
    "\n",
    "instance MonadTrans MaybeT where\n",
    " lift m = MaybeT (Just `liftM` m)\n",
    "\n",
    "instance (MonadWriter w m) => MonadWriter w (MaybeT m) where\n",
    " tell = lift . tell\n",
    " listen m = MaybeT $ do\n",
    "             (result, log) <- listen (runMaybeT m)\n",
    "             case result of\n",
    "                 Nothing -> return Nothing\n",
    "                 Just value -> return (Just (value, log))\n",
    " pass m = MaybeT $ do\n",
    "             result <- runMaybeT m\n",
    "             case result of\n",
    "                 Nothing -> return Nothing\n",
    "                 Just (value, log) -> pass (return (Just value, log))"
   ]
  },
  {
   "cell_type": "markdown",
   "metadata": {},
   "source": [
    "`MonadWriter`뿐만 아니라 여러가지 monad들에 대해 instance를 추가할 수 있다. 그런데, `MonadWriter`는 `lift`만으로 쉽게 구현할 수 없다.\n",
    "\n",
    "```haskell\n",
    "writer :: (a, w) -> m a Source\n",
    "```\n",
    "writer (a,w) embeds a simple writer action.\n",
    "```haskell\n",
    "tell :: w -> m () Source\n",
    "```\n",
    "tell w is an action that produces the output w.\n",
    "```haskell\n",
    "listen :: m a -> m (a, w) Source\n",
    "```\n",
    "listen m is an action that executes the action m and adds its output to the value of the computation.\n",
    "```haskell\n",
    "pass :: m (a, w -> w) -> m a Source\n",
    "```\n",
    "pass m is an action that executes the action m, which returns a value and a function, and returns the value, applying the function to the output."
   ]
  },
  {
   "cell_type": "markdown",
   "metadata": {},
   "source": [
    "## Transformer stacking order is important\n",
    "\n",
    "\n",
    "Monad transformer는 함수 합성과 비슷해서 합성 순서, 즉 결합 순서가 중요하다."
   ]
  },
  {
   "cell_type": "code",
   "execution_count": 40,
   "metadata": {
    "collapsed": false
   },
   "outputs": [],
   "source": [
    ":set -XFlexibleContexts"
   ]
  },
  {
   "cell_type": "code",
   "execution_count": 41,
   "metadata": {
    "collapsed": false
   },
   "outputs": [],
   "source": [
    "import Control.Monad.Writer\n",
    "import MaybeT"
   ]
  },
  {
   "cell_type": "code",
   "execution_count": 42,
   "metadata": {
    "collapsed": true
   },
   "outputs": [],
   "source": [
    "problem :: MonadWriter [String] m => m ()\n",
    "problem = do\n",
    "    tell [\"this is where i fail\"]\n",
    "    fail \"oops\""
   ]
  },
  {
   "cell_type": "markdown",
   "metadata": {},
   "source": [
    "`MonadWriter`를 사용하는 `problem`함수에 아래의 두 타입이 모두 적용될 수 있다."
   ]
  },
  {
   "cell_type": "code",
   "execution_count": 43,
   "metadata": {
    "collapsed": false
   },
   "outputs": [],
   "source": [
    "type A = WriterT [String] Maybe\n",
    "type B = MaybeT (Writer [String])"
   ]
  },
  {
   "cell_type": "code",
   "execution_count": 44,
   "metadata": {
    "collapsed": false
   },
   "outputs": [],
   "source": [
    "a :: A ()\n",
    "a = problem\n",
    "\n",
    "b :: B ()\n",
    "b = problem"
   ]
  },
  {
   "cell_type": "markdown",
   "metadata": {},
   "source": [
    "그러나 monad 결합 순서에 따라 결과가 다르다."
   ]
  },
  {
   "cell_type": "code",
   "execution_count": 45,
   "metadata": {
    "collapsed": false
   },
   "outputs": [
    {
     "data": {
      "text/html": [
       "<style>/* Styles used for the Hoogle display in the pager */\n",
       ".hoogle-doc {\n",
       "display: block;\n",
       "padding-bottom: 1.3em;\n",
       "padding-left: 0.4em;\n",
       "}\n",
       ".hoogle-code {\n",
       "display: block;\n",
       "font-family: monospace;\n",
       "white-space: pre;\n",
       "}\n",
       ".hoogle-text {\n",
       "display: block;\n",
       "}\n",
       ".hoogle-name {\n",
       "color: green;\n",
       "font-weight: bold;\n",
       "}\n",
       ".hoogle-head {\n",
       "font-weight: bold;\n",
       "}\n",
       ".hoogle-sub {\n",
       "display: block;\n",
       "margin-left: 0.4em;\n",
       "}\n",
       ".hoogle-package {\n",
       "font-weight: bold;\n",
       "font-style: italic;\n",
       "}\n",
       ".hoogle-module {\n",
       "font-weight: bold;\n",
       "}\n",
       ".hoogle-class {\n",
       "font-weight: bold;\n",
       "}\n",
       ".get-type {\n",
       "color: green;\n",
       "font-weight: bold;\n",
       "font-family: monospace;\n",
       "display: block;\n",
       "white-space: pre-wrap;\n",
       "}\n",
       ".show-type {\n",
       "color: green;\n",
       "font-weight: bold;\n",
       "font-family: monospace;\n",
       "margin-left: 1em;\n",
       "}\n",
       ".mono {\n",
       "font-family: monospace;\n",
       "display: block;\n",
       "}\n",
       ".err-msg {\n",
       "color: red;\n",
       "font-style: italic;\n",
       "font-family: monospace;\n",
       "white-space: pre;\n",
       "display: block;\n",
       "}\n",
       "#unshowable {\n",
       "color: red;\n",
       "font-weight: bold;\n",
       "}\n",
       ".err-msg.in.collapse {\n",
       "padding-top: 0.7em;\n",
       "}\n",
       ".highlight-code {\n",
       "white-space: pre;\n",
       "font-family: monospace;\n",
       "}\n",
       ".suggestion-warning { \n",
       "font-weight: bold;\n",
       "color: rgb(200, 130, 0);\n",
       "}\n",
       ".suggestion-error { \n",
       "font-weight: bold;\n",
       "color: red;\n",
       "}\n",
       ".suggestion-name {\n",
       "font-weight: bold;\n",
       "}\n",
       "</style><span style='color: red; font-weight: bold;'>Nothing</span>"
      ],
      "text/plain": [
       "Nothing"
      ]
     },
     "metadata": {},
     "output_type": "display_data"
    }
   ],
   "source": [
    "runWriterT a"
   ]
  },
  {
   "cell_type": "code",
   "execution_count": 46,
   "metadata": {
    "collapsed": false
   },
   "outputs": [
    {
     "data": {
      "text/plain": [
       "(Nothing,[\"this is where i fail\"])"
      ]
     },
     "metadata": {},
     "output_type": "display_data"
    }
   ],
   "source": [
    "runWriter $ runMaybeT b"
   ]
  },
  {
   "cell_type": "code",
   "execution_count": null,
   "metadata": {
    "collapsed": true
   },
   "outputs": [],
   "source": []
  }
 ],
 "metadata": {
  "kernelspec": {
   "display_name": "Haskell",
   "language": "haskell",
   "name": "haskell"
  },
  "language_info": {
   "codemirror_mode": "ihaskell",
   "file_extension": ".hs",
   "name": "haskell",
   "version": "7.10.2"
  }
 },
 "nbformat": 4,
 "nbformat_minor": 0
}
