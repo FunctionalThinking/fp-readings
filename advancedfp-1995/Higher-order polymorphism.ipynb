{
 "cells": [
  {
   "cell_type": "markdown",
   "metadata": {},
   "source": [
    "### 3.3 클래스 정의\n",
    "\n",
    "이미 정의된 클래스에 더해 사용자 정의 클래스를 추가할 수 있다.\n",
    "\n",
    "#### 트리 예"
   ]
  },
  {
   "cell_type": "code",
   "execution_count": 32,
   "metadata": {
    "collapsed": true
   },
   "outputs": [],
   "source": [
    "data BinTree a = Leaf a\n",
    "               | BinTree a :^: BinTree a"
   ]
  },
  {
   "cell_type": "code",
   "execution_count": 33,
   "metadata": {
    "collapsed": true
   },
   "outputs": [],
   "source": [
    "data LabTree l a = Tip a\n",
    "                 | LFork l (LabTree l a) (LabTree l a)"
   ]
  },
  {
   "cell_type": "code",
   "execution_count": 34,
   "metadata": {
    "collapsed": true
   },
   "outputs": [],
   "source": [
    "data STree a = Empty\n",
    "             | Split a (STree a) (STree a)\n",
    "             deriving (Eq, Show)"
   ]
  },
  {
   "cell_type": "code",
   "execution_count": 35,
   "metadata": {
    "collapsed": true
   },
   "outputs": [],
   "source": [
    "data RoseTree a = Node a [RoseTree a]"
   ]
  },
  {
   "cell_type": "code",
   "execution_count": 36,
   "metadata": {
    "collapsed": true
   },
   "outputs": [],
   "source": [
    "type Name = String\n",
    "data Term = Var Name      -- variable\n",
    "          | Ap  Term Term -- application\n",
    "          | Lam Name Term -- lambda abstraction"
   ]
  },
  {
   "cell_type": "markdown",
   "metadata": {},
   "source": [
    "서로 다른 형태의 트리지만 동일한 속성을 가질 수 있다. "
   ]
  },
  {
   "cell_type": "code",
   "execution_count": 37,
   "metadata": {
    "collapsed": true
   },
   "outputs": [],
   "source": [
    "class Tree t where\n",
    "  subtrees :: t -> [t]"
   ]
  },
  {
   "cell_type": "markdown",
   "metadata": {},
   "source": [
    "각 트리 타입에 대해 instance를 만들어보면..."
   ]
  },
  {
   "cell_type": "code",
   "execution_count": 38,
   "metadata": {
    "collapsed": true
   },
   "outputs": [],
   "source": [
    "instance Tree (BinTree a) where\n",
    "  subtrees (Leaf n) = []\n",
    "  subtrees (l :^: r) = [l,r]\n",
    "\n",
    "instance Tree (LabTree l a) where\n",
    "  subtrees (Tip _) = []\n",
    "  subtrees (LFork _ l r) = [l,r]\n",
    "\n",
    "instance Tree (STree a) where\n",
    "  subtrees Empty = []\n",
    "  subtrees (Split _ l r) = [l,r]\n",
    "\n",
    "instance Tree (RoseTree a) where\n",
    "  subtrees (Node x gts) = gts\n",
    "\n",
    "instance Tree Term where\n",
    "  subtrees (Var _) = []\n",
    "  subtrees (Ap f x) = [f,x]\n",
    "  subtrees (Lam v b) = [b]"
   ]
  },
  {
   "cell_type": "markdown",
   "metadata": {},
   "source": [
    "이제 트리 일반적인 오퍼레이션을 정의할 수 있다."
   ]
  },
  {
   "cell_type": "code",
   "execution_count": 39,
   "metadata": {
    "collapsed": true
   },
   "outputs": [],
   "source": [
    "depth:: Tree t => t -> Int\n",
    "depth = (1+) . foldl max 0 . map depth . subtrees\n",
    "\n",
    "size:: Tree t => t -> Int\n",
    "size = (1+) . sum . map size . subtrees"
   ]
  },
  {
   "cell_type": "markdown",
   "metadata": {},
   "source": [
    "`BinTree`의 경우에는 `size`를 최적화 할 수 있다. (`subtrees`의 중간 결과 리스트를 만들 필요 없으므로..) 이런 specialization은 어떻게 가능할까? \n",
    "\n",
    "```haskell\n",
    "size (Leaf _) = 1\n",
    "size (l :^: r) = size l + size r\n",
    "```\n",
    "\n",
    "(*Dictionary-free overloading by partial evaluation*에서 가능한 방법이 설명되나 보다. 게다가 이 구현은 `subtrees`를 이용하는 경우와 다른 답을 내놓는다.)"
   ]
  },
  {
   "cell_type": "code",
   "execution_count": 40,
   "metadata": {
    "collapsed": true
   },
   "outputs": [],
   "source": [
    "t = Leaf 1 :^: Leaf 2"
   ]
  },
  {
   "cell_type": "code",
   "execution_count": 41,
   "metadata": {
    "collapsed": false
   },
   "outputs": [
    {
     "data": {
      "text/plain": [
       "3"
      ]
     },
     "metadata": {},
     "output_type": "display_data"
    }
   ],
   "source": [
    "size t"
   ]
  },
  {
   "cell_type": "code",
   "execution_count": 42,
   "metadata": {
    "collapsed": true
   },
   "outputs": [],
   "source": [
    "bsize (Leaf _) =1\n",
    "bsize (l :^: r) = bsize l + bsize r"
   ]
  },
  {
   "cell_type": "code",
   "execution_count": 43,
   "metadata": {
    "collapsed": false
   },
   "outputs": [
    {
     "data": {
      "text/plain": [
       "2"
      ]
     },
     "metadata": {},
     "output_type": "display_data"
    }
   ],
   "source": [
    "bsize t"
   ]
  },
  {
   "cell_type": "markdown",
   "metadata": {},
   "source": [
    "`size`, `depth` 외에 `paths`, `dfs`, `bfs` 등의 알고리즘도 공통적으로 구현할 수 있다."
   ]
  },
  {
   "cell_type": "code",
   "execution_count": 44,
   "metadata": {
    "collapsed": false
   },
   "outputs": [],
   "source": [
    "paths:: Tree t => t -> [[t]]\n",
    "paths t | null br = [[t]]\n",
    "        | otherwise = [t:p | b<-br, p<-paths b]\n",
    "         where br = subtrees t\n",
    "\n",
    "dfs :: Tree t => t -> [t]\n",
    "dfs t = t : concat (map dfs (subtrees t))\n",
    "\n",
    "bfs :: Tree t => t -> [t]\n",
    "bfs = concat . lev\n",
    " where lev t = [t] : foldr cat [] (map lev (subtrees t))\n",
    "       cat = combine (++)\n",
    "\n",
    "combine :: (a -> a -> a) -> ([a] -> [a] -> [a])\n",
    "combine f (x:xs) (y:ys) = f x y : combine f xs ys\n",
    "combine _ [] ys = ys\n",
    "combine _ xs [] = xs"
   ]
  },
  {
   "cell_type": "markdown",
   "metadata": {},
   "source": [
    "(`bfs`는 level-order 문제와 같으며, `foldr cat []` 대신 `map concat . transpose`를 이용할 수도 있겠다)"
   ]
  },
  {
   "cell_type": "code",
   "execution_count": 45,
   "metadata": {
    "collapsed": false
   },
   "outputs": [],
   "source": [
    ":m +Data.List\n",
    "bfs' = concat . lev\n",
    " where lev t = [t] :  map concat (transpose (map lev (subtrees t)))"
   ]
  },
  {
   "cell_type": "code",
   "execution_count": 50,
   "metadata": {
    "collapsed": true
   },
   "outputs": [],
   "source": [
    "s1 = Split 2 (Split 1 Empty Empty) (Split 3 Empty (Split 4 Empty Empty))"
   ]
  },
  {
   "cell_type": "code",
   "execution_count": 51,
   "metadata": {
    "collapsed": false
   },
   "outputs": [
    {
     "data": {
      "text/plain": [
       "True"
      ]
     },
     "metadata": {},
     "output_type": "display_data"
    }
   ],
   "source": [
    "bfs' s1 == bfs s1"
   ]
  },
  {
   "cell_type": "code",
   "execution_count": null,
   "metadata": {
    "collapsed": true
   },
   "outputs": [],
   "source": []
  }
 ],
 "metadata": {
  "kernelspec": {
   "display_name": "Haskell",
   "language": "haskell",
   "name": "haskell"
  },
  "language_info": {
   "codemirror_mode": "ihaskell",
   "file_extension": ".hs",
   "name": "haskell",
   "version": "7.10.2"
  }
 },
 "nbformat": 4,
 "nbformat_minor": 0
}
