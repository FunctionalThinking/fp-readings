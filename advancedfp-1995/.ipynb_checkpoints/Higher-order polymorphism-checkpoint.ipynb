{
 "cells": [
  {
   "cell_type": "markdown",
   "metadata": {},
   "source": [
    "### 3.3 클래스 정의\n",
    "\n",
    "이미 정의된 클래스에 더해 사용자 정의 클래스를 추가할 수 있다.\n",
    "\n",
    "#### 트리 예"
   ]
  },
  {
   "cell_type": "code",
   "execution_count": 1,
   "metadata": {
    "collapsed": true
   },
   "outputs": [],
   "source": [
    "data BinTree a = Leaf a\n",
    "               | BinTree a :^: BinTree a"
   ]
  },
  {
   "cell_type": "code",
   "execution_count": 2,
   "metadata": {
    "collapsed": true
   },
   "outputs": [],
   "source": [
    "data LabTree l a = Tip a\n",
    "                 | LFork l (LabTree l a) (LabTree l a)"
   ]
  },
  {
   "cell_type": "code",
   "execution_count": 25,
   "metadata": {
    "collapsed": true
   },
   "outputs": [],
   "source": [
    "data STree a = Empty\n",
    "             | Split a (STree a) (STree a)\n",
    "             deriving (Show)"
   ]
  },
  {
   "cell_type": "code",
   "execution_count": 4,
   "metadata": {
    "collapsed": true
   },
   "outputs": [],
   "source": [
    "data RoseTree a = Node a [RoseTree a]"
   ]
  },
  {
   "cell_type": "code",
   "execution_count": 5,
   "metadata": {
    "collapsed": true
   },
   "outputs": [],
   "source": [
    "type Name = String\n",
    "data Term = Var Name      -- variable\n",
    "          | Ap  Term Term -- application\n",
    "          | Lam Name Term -- lambda abstraction"
   ]
  },
  {
   "cell_type": "markdown",
   "metadata": {},
   "source": [
    "서로 다른 형태의 트리지만 동일한 속성을 가질 수 있다. "
   ]
  },
  {
   "cell_type": "code",
   "execution_count": 6,
   "metadata": {
    "collapsed": true
   },
   "outputs": [],
   "source": [
    "class Tree t where\n",
    "  subtrees :: t -> [t]"
   ]
  },
  {
   "cell_type": "markdown",
   "metadata": {},
   "source": [
    "각 트리 타입에 대해 instance를 만들어보면..."
   ]
  },
  {
   "cell_type": "code",
   "execution_count": 7,
   "metadata": {
    "collapsed": true
   },
   "outputs": [],
   "source": [
    "instance Tree (BinTree a) where\n",
    "  subtrees (Leaf n) = []\n",
    "  subtrees (l :^: r) = [l,r]\n",
    "\n",
    "instance Tree (LabTree l a) where\n",
    "  subtrees (Tip _) = []\n",
    "  subtrees (LFork _ l r) = [l,r]\n",
    "\n",
    "instance Tree (STree a) where\n",
    "  subtrees Empty = []\n",
    "  subtrees (Split _ l r) = [l,r]\n",
    "\n",
    "instance Tree (RoseTree a) where\n",
    "  subtrees (Node x gts) = gts\n",
    "\n",
    "instance Tree Term where\n",
    "  subtrees (Var _) = []\n",
    "  subtrees (Ap f x) = [f,x]\n",
    "  subtrees (Lam v b) = [b]"
   ]
  },
  {
   "cell_type": "markdown",
   "metadata": {},
   "source": [
    "이제 트리 일반적인 오퍼레이션을 정의할 수 있다."
   ]
  },
  {
   "cell_type": "code",
   "execution_count": 10,
   "metadata": {
    "collapsed": true
   },
   "outputs": [],
   "source": [
    "depth:: Tree t => t -> Int\n",
    "depth = (1+) . foldl max 0 . map depth . subtrees\n",
    "\n",
    "size:: Tree t => t -> Int\n",
    "size = (1+) . sum . map size . subtrees"
   ]
  },
  {
   "cell_type": "markdown",
   "metadata": {},
   "source": [
    "`BinTree`의 경우에는 `size`를 최적화 할 수 있다. (`subtrees`의 중간 결과 리스트를 만들 필요 없으므로..) 이런 specialization은 어떻게 가능할까? \n",
    "\n",
    "```haskell\n",
    "size (Leaf _) = 1\n",
    "size (l :^: r) = size l + size r\n",
    "```\n",
    "\n",
    "(*Dictionary-free overloading by partial evaluation*에서 가능한 방법이 설명되나 보다. 게다가 이 구현은 `subtrees`를 이용하는 경우와 다른 답을 내놓는다.)"
   ]
  },
  {
   "cell_type": "code",
   "execution_count": 12,
   "metadata": {
    "collapsed": true
   },
   "outputs": [],
   "source": [
    "t = Leaf 1 :^: Leaf 2"
   ]
  },
  {
   "cell_type": "code",
   "execution_count": 13,
   "metadata": {
    "collapsed": false
   },
   "outputs": [
    {
     "data": {
      "text/plain": [
       "3"
      ]
     },
     "metadata": {},
     "output_type": "display_data"
    }
   ],
   "source": [
    "size t"
   ]
  },
  {
   "cell_type": "code",
   "execution_count": 14,
   "metadata": {
    "collapsed": true
   },
   "outputs": [],
   "source": [
    "bsize (Leaf _) =1\n",
    "bsize (l :^: r) = bsize l + bsize r"
   ]
  },
  {
   "cell_type": "code",
   "execution_count": 15,
   "metadata": {
    "collapsed": false
   },
   "outputs": [
    {
     "data": {
      "text/plain": [
       "2"
      ]
     },
     "metadata": {},
     "output_type": "display_data"
    }
   ],
   "source": [
    "bsize t"
   ]
  },
  {
   "cell_type": "markdown",
   "metadata": {},
   "source": [
    "`size`, `depth` 외에 `paths`, `dfs`, `bfs` 등의 알고리즘도 공통적으로 구현할 수 있다."
   ]
  },
  {
   "cell_type": "code",
   "execution_count": 20,
   "metadata": {
    "collapsed": false
   },
   "outputs": [],
   "source": [
    "paths:: Tree t => t -> [[t]]\n",
    "paths t | null br = [[t]]\n",
    "        | otherwise = [t:p | b<-br, p<-paths b]\n",
    "         where br = subtrees t\n",
    "\n",
    "dfs :: Tree t => t -> [t]\n",
    "dfs t = t : concat (map dfs (subtrees t))\n",
    "\n",
    "bfs :: Tree t => t -> [t]\n",
    "bfs = concat . lev\n",
    " where lev t = [t] : foldr cat [] (map lev (subtrees t))\n",
    "       cat = combine (++)\n",
    "\n",
    "combine :: (a -> a -> a) -> ([a] -> [a] -> [a])\n",
    "combine f (x:xs) (y:ys) = f x y : combine f xs ys\n",
    "combine _ [] ys = ys\n",
    "combine _ xs [] = xs"
   ]
  },
  {
   "cell_type": "markdown",
   "metadata": {},
   "source": [
    "(`bfs`는 `transpose`를 이용할 수도 있겠다)"
   ]
  },
  {
   "cell_type": "code",
   "execution_count": 22,
   "metadata": {
    "collapsed": false
   },
   "outputs": [],
   "source": [
    ":m +Data.List\n",
    "bfs' = concat . lev\n",
    " where lev t = [t] :  map concat (transpose (map lev (subtrees t)))"
   ]
  },
  {
   "cell_type": "code",
   "execution_count": 26,
   "metadata": {
    "collapsed": true
   },
   "outputs": [],
   "source": [
    "s1 = Split 2 (Split 1 Empty Empty) (Split 3 Empty Empty)"
   ]
  },
  {
   "cell_type": "code",
   "execution_count": 24,
   "metadata": {
    "collapsed": false
   },
   "outputs": [
    {
     "data": {
      "text/html": [
       "<style>/* Styles used for the Hoogle display in the pager */\n",
       ".hoogle-doc {\n",
       "display: block;\n",
       "padding-bottom: 1.3em;\n",
       "padding-left: 0.4em;\n",
       "}\n",
       ".hoogle-code {\n",
       "display: block;\n",
       "font-family: monospace;\n",
       "white-space: pre;\n",
       "}\n",
       ".hoogle-text {\n",
       "display: block;\n",
       "}\n",
       ".hoogle-name {\n",
       "color: green;\n",
       "font-weight: bold;\n",
       "}\n",
       ".hoogle-head {\n",
       "font-weight: bold;\n",
       "}\n",
       ".hoogle-sub {\n",
       "display: block;\n",
       "margin-left: 0.4em;\n",
       "}\n",
       ".hoogle-package {\n",
       "font-weight: bold;\n",
       "font-style: italic;\n",
       "}\n",
       ".hoogle-module {\n",
       "font-weight: bold;\n",
       "}\n",
       ".hoogle-class {\n",
       "font-weight: bold;\n",
       "}\n",
       ".get-type {\n",
       "color: green;\n",
       "font-weight: bold;\n",
       "font-family: monospace;\n",
       "display: block;\n",
       "white-space: pre-wrap;\n",
       "}\n",
       ".show-type {\n",
       "color: green;\n",
       "font-weight: bold;\n",
       "font-family: monospace;\n",
       "margin-left: 1em;\n",
       "}\n",
       ".mono {\n",
       "font-family: monospace;\n",
       "display: block;\n",
       "}\n",
       ".err-msg {\n",
       "color: red;\n",
       "font-style: italic;\n",
       "font-family: monospace;\n",
       "white-space: pre;\n",
       "display: block;\n",
       "}\n",
       "#unshowable {\n",
       "color: red;\n",
       "font-weight: bold;\n",
       "}\n",
       ".err-msg.in.collapse {\n",
       "padding-top: 0.7em;\n",
       "}\n",
       ".highlight-code {\n",
       "white-space: pre;\n",
       "font-family: monospace;\n",
       "}\n",
       ".suggestion-warning { \n",
       "font-weight: bold;\n",
       "color: rgb(200, 130, 0);\n",
       "}\n",
       ".suggestion-error { \n",
       "font-weight: bold;\n",
       "color: red;\n",
       "}\n",
       ".suggestion-name {\n",
       "font-weight: bold;\n",
       "}\n",
       "</style><div class='collapse-group'><span class='btn btn-default' href='#' id='unshowable'>Unshowable:<span class='show-type'>STree a0</span></span><span class='err-msg collapse'>No instance for (Show (STree a0)) arising from a use of `print'<br/>In the first argument of `print', namely `it'<br/>In a stmt of an interactive GHCi command: print it</span></div><script>$('#unshowable').on('click', function(e) {\n",
       "    e.preventDefault();\n",
       "    var $this = $(this);\n",
       "    var $collapse = $this.closest('.collapse-group').find('.err-msg');\n",
       "    $collapse.collapse('toggle');\n",
       "});\n",
       "</script>"
      ],
      "text/plain": [
       "No instance for (Show (STree a0)) arising from a use of `print'\n",
       "In the first argument of `print', namely `it'\n",
       "In a stmt of an interactive GHCi command: print it"
      ]
     },
     "metadata": {},
     "output_type": "display_data"
    }
   ],
   "source": []
  },
  {
   "cell_type": "code",
   "execution_count": null,
   "metadata": {
    "collapsed": true
   },
   "outputs": [],
   "source": []
  }
 ],
 "metadata": {
  "kernelspec": {
   "display_name": "Haskell",
   "language": "haskell",
   "name": "haskell"
  },
  "language_info": {
   "codemirror_mode": "ihaskell",
   "file_extension": ".hs",
   "name": "haskell",
   "version": "7.10.2"
  }
 },
 "nbformat": 4,
 "nbformat_minor": 0
}
