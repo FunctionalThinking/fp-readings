{
 "cells": [
  {
   "cell_type": "markdown",
   "metadata": {
    "hidden": false
   },
   "source": [
    "'[뉴튼-랩슨](https://en.wikipedia.org/wiki/Newton%27s_method)' 수치 알고리즘을 통해 지연 연산(lazy evaluation)이 어떤 형태로 도움을 줄 수 있는지 살펴본다.\n",
    "뉴튼-랩슨 방법에 따라, 어떤 수 n의 제곱근을 구하려면 아래의 식을 반복적용하여 점점 더 정확한 근사값을 구하면 된다.\n",
    "\n",
    "$a_{i+1} = (a_i + n / a_i ) / 2 $\n",
    "\n",
    "매우 간단하다. C/Java로 구현한다면 아래와 같다.([출처:프린스턴대 자바 강의](http://introcs.cs.princeton.edu/java/21function/))\n",
    "\n",
    "```java\n",
    "public static double sqrt(double c, double EPSILON) {\n",
    "    if (c < 0) return Double.NaN;\n",
    "    double t = c;\n",
    "    while (Math.abs(t - c/t) > EPSILON*t)\n",
    "        t = (c/t + t) / 2.0;\n",
    "    return t;\n",
    "}\n",
    "```\n",
    "\n",
    "간단하기는 하지만 더 작은 조각들로 나누기는 어려워보인다. 지연 평가를 이용하면 더 작은 조각들로 나눌 수 있다.\n",
    "\n",
    "뉴튼 방법은 근사값을 점점 더 정확하게 만드는, 즉 근사값을 계속 만들어내는 방법이므로 근사값의 리스트를 반환하는 것이 적절해보인다. 이전 근사값으로부터 좀더 정확한 다음 근사값을 만드는 함수는 $a_{i+1} = (a_i + n / a_i ) / 2$ 수식에 따라 다음과 같이 정의할 수 있다."
   ]
  },
  {
   "cell_type": "code",
   "execution_count": 6,
   "metadata": {
    "collapsed": false,
    "hidden": false
   },
   "outputs": [],
   "source": [
    "next n x = (x + n / x) / 2"
   ]
  },
  {
   "cell_type": "markdown",
   "metadata": {},
   "source": [
    "인자를 하나만 적용한 `next n`은 근사값을 다음 근사값으로 매핑하는 함수이다. 이 함수를 `f`라고 하면 근사값의 리스트는 `[a0, f a0, f(f a0), f(f(f a0)), ... ]`이므로 이러한 패턴을 함수로 정의할 수 있다.\n",
    "\n",
    "```haskell\n",
    "repeat f a = a : repeat f (f a)\n",
    "```\n",
    "\n",
    "하지만 Haskell에는 이미 이러한 함수가 `iterate`라는 이름으로 정의되어 있다."
   ]
  },
  {
   "cell_type": "code",
   "execution_count": 7,
   "metadata": {
    "collapsed": false
   },
   "outputs": [
    {
     "data": {
      "text/plain": [
       "[0,1,2,3,4,5,6,7,8,9]"
      ]
     },
     "metadata": {},
     "output_type": "display_data"
    }
   ],
   "source": [
    "take 10 (iterate (+1) 0)"
   ]
  },
  {
   "cell_type": "markdown",
   "metadata": {},
   "source": [
    "이제 근사값의 리스트는 다음과 같이 계산할 수 있다.\n",
    "\n",
    "```haskell\n",
    "iterate (next n) a0\n",
    "```\n",
    "\n",
    "`iterate`는 **무한히 긴** 리스트를 만들어내지만, 그건 가능성을 의미하는 것일뿐 실제로는 프로그램이 필요로 하는 만큼만 만들어낸다. \n",
    "\n",
    "이제 제곱근의 근사값을 구하기 위해 `within`이라는 함수를 정의할 것이다. 이 함수는 리스트의 값들을 따라가면서 이웃한 두 값이 주어진 오차범위에 들어가면 그 값을 반환한다."
   ]
  },
  {
   "cell_type": "code",
   "execution_count": 8,
   "metadata": {
    "collapsed": false
   },
   "outputs": [],
   "source": [
    "within eps (a:b:rest) \n",
    " | abs (a-b) <= eps     = b\n",
    " | otherwise            = within eps (b:rest)"
   ]
  },
  {
   "cell_type": "markdown",
   "metadata": {},
   "source": [
    "이 조각 함수들을 붙이면 다음과 같은 `sqrt`함수를 얻을 수 있다."
   ]
  },
  {
   "cell_type": "code",
   "execution_count": 9,
   "metadata": {
    "collapsed": false
   },
   "outputs": [],
   "source": [
    "sqrt a0 eps n = within eps (iterate (next n) a0)"
   ]
  },
  {
   "cell_type": "code",
   "execution_count": null,
   "metadata": {
    "collapsed": true
   },
   "outputs": [],
   "source": []
  }
 ],
 "metadata": {
  "kernelspec": {
   "display_name": "Haskell",
   "language": "haskell",
   "name": "haskell"
  },
  "language_info": {
   "codemirror_mode": "ihaskell",
   "file_extension": ".hs",
   "name": "haskell",
   "version": "7.10.2"
  }
 },
 "nbformat": 4,
 "nbformat_minor": 0
}
