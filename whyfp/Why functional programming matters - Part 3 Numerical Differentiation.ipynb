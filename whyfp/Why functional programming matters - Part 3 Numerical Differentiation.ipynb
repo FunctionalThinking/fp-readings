{
 "cells": [
  {
   "cell_type": "markdown",
   "metadata": {
    "collapsed": true
   },
   "source": [
    "# 프로그램 붙이기\n",
    "\n",
    "## 수치 미분\n",
    "\n",
    "앞 절에서 정의한 `within`과 `relative`는 근사값 수열을 생성하는 다른 수치 알고리즘에서도 재사용할 수 있다.\n",
    "\n"
   ]
  },
  {
   "cell_type": "code",
   "execution_count": 16,
   "metadata": {
    "collapsed": true
   },
   "outputs": [],
   "source": [
    "within eps (a:b:rest) \n",
    " | abs (a-b) <= eps     = b\n",
    " | otherwise            = within eps (b:rest)\n",
    "\n",
    "relative eps (a:b:rest)\n",
    " | abs (a/b - 1) <= eps   = b\n",
    " | otherwise              = relative eps (b:rest)"
   ]
  },
  {
   "cell_type": "markdown",
   "metadata": {},
   "source": [
    "그러한 예가 [수치 미분](https://en.wikipedia.org/wiki/Numerical_differentiation) 알고리즘이다.\n",
    "\n",
    "<img src=\"https://upload.wikimedia.org/wikipedia/commons/1/18/Derivative.svg\" width=200 />"
   ]
  },
  {
   "cell_type": "code",
   "execution_count": 17,
   "metadata": {
    "collapsed": true
   },
   "outputs": [],
   "source": [
    "easydiff f x h = (f(x + h) - f x) / h"
   ]
  },
  {
   "cell_type": "markdown",
   "metadata": {
    "collapsed": true
   },
   "source": [
    "`h`가 충분히 작으면 더 정확한 근사값을 얻을 수 있지만, 너무 작으면 라운딩 에러가 발생하여 값을 신뢰할 수 없게 된다. 적당한 `h`를 찾는 방법은 구간 `h`를 점점 줄여나가면서 `within eps` 등으로 원하는 오차 범위 내 값을 구하는 방법이다. 첫 `h0`를 적당히 큰 값으로 잡고 계산하고, 그 다음에는 구간을 반으로 줄여서 계산하고, 또 반으로 줄여서 계산하고... "
   ]
  },
  {
   "cell_type": "code",
   "execution_count": 18,
   "metadata": {
    "collapsed": true
   },
   "outputs": [],
   "source": [
    "differentiate h0 f x = map (easydiff f x) (iterate (/2) h0)"
   ]
  },
  {
   "cell_type": "markdown",
   "metadata": {},
   "source": [
    "이제 주어진 점 `x`에서의 미분 값을 계산할 수 있다.\n",
    "```haskell\n",
    "within eps (differentiate h0 f x)\n",
    "```"
   ]
  },
  {
   "cell_type": "code",
   "execution_count": 19,
   "metadata": {
    "collapsed": false
   },
   "outputs": [
    {
     "data": {
      "text/plain": [
       "0.7071061068563722"
      ]
     },
     "metadata": {},
     "output_type": "display_data"
    }
   ],
   "source": [
    "within 1e-6 (differentiate 1 sin (pi/4))"
   ]
  },
  {
   "cell_type": "markdown",
   "metadata": {},
   "source": [
    "이 방법의 문제는 근사값 수열이 느리게 수렴한다는 점이다.\n",
    "\n",
    "수학의 도움을 받아 개선할 수 있다. 앞서 구한 근사값 수열은 미분값에 오차항이 더해진 꼴로 볼 수 있는데, 이 때 오차항은 대략적으로 h의 지수승에 비례한다.\n",
    "\n",
    "$정답 + h 오차항$\n",
    "\n",
    "이때 정답을 $A$라고 하면 오차항은 $B \\times 2^n \\times h^n$ 라고 둘 수 있다. ($a_{i+1}$을 구할 때 $h/2$가 되므로)\n",
    "\n",
    "$\n",
    "\\begin{align}\n",
    "a_i &= A + B \\times 2^n \\times h^n \\\\\n",
    "a_{i+1} &= A + B \\times h^h\n",
    "\\end{align}\n",
    "$\n",
    "\n",
    "오차항을 없애면 ...\n",
    "\n",
    "$A = \\cfrac{a_{n+1} \\times 2^n - a_n}{2^n - 1}$\n",
    "\n",
    "이어진 두 근사값($a_i$와 $a_{i+1}$)이 주어지면 오차항을 제거하여 더 정확한 값($A$)을 계산할 수 있다."
   ]
  },
  {
   "cell_type": "code",
   "execution_count": 20,
   "metadata": {
    "collapsed": true
   },
   "outputs": [],
   "source": [
    "elimerror n (a:b:rest) = (b*2^n - a) / (2^n-1) : elimerror n (b:rest)"
   ]
  },
  {
   "cell_type": "markdown",
   "metadata": {},
   "source": [
    "원래의 근사값 수열에 `elimerror n`을 적용하면 더 빨리 수렴하는 수열을 얻을 수 있다. 남은 문제는 `n`을 어떻게 정하느냐 하는것. 이 값은 다음의 함수로 구할 수 있다고 한다."
   ]
  },
  {
   "cell_type": "code",
   "execution_count": 21,
   "metadata": {
    "collapsed": true
   },
   "outputs": [],
   "source": [
    "order (a:b:c:rest) = round(logBase 2 ((a-c)/(b-c)-1))"
   ]
  },
  {
   "cell_type": "markdown",
   "metadata": {},
   "source": [
    "이제 주어진 근사값 수열을 개선하는 함수를 정의할 수 있다."
   ]
  },
  {
   "cell_type": "code",
   "execution_count": 22,
   "metadata": {
    "collapsed": true
   },
   "outputs": [],
   "source": [
    "improve s = elimerror (order s) s"
   ]
  },
  {
   "cell_type": "code",
   "execution_count": 23,
   "metadata": {
    "collapsed": false
   },
   "outputs": [
    {
     "data": {
      "text/plain": [
       "0.7071070058051419"
      ]
     },
     "metadata": {},
     "output_type": "display_data"
    }
   ],
   "source": [
    "within 1e-6 (improve (differentiate 1 sin (pi/4)))"
   ]
  },
  {
   "cell_type": "markdown",
   "metadata": {},
   "source": [
    "개선 전 후의 근사값 수열에서 첫 10개씩을 추출해보면 그 차이를 알 수 있다."
   ]
  },
  {
   "cell_type": "code",
   "execution_count": 28,
   "metadata": {
    "collapsed": false
   },
   "outputs": [
    {
     "data": {
      "text/plain": [
       "[0.5048856975964859,0.611835119448811,0.6611301360648314,0.6845566203276636,0.6959440534591259,0.7015538499518499,0.7043374663312676,0.705723916746507,0.706415797873774,0.7067614018394579]"
      ]
     },
     "metadata": {},
     "output_type": "display_data"
    }
   ],
   "source": [
    "take 10 (differentiate 0.5 sin (pi/4))"
   ]
  },
  {
   "cell_type": "code",
   "execution_count": 29,
   "metadata": {
    "collapsed": false
   },
   "outputs": [
    {
     "data": {
      "text/plain": [
       "[0.718784541301136,0.7104251526808518,0.7079831045904958,0.7073314865905882,0.7071636464445739,0.7071210827106853,0.7071103671617465,0.7071076790010409,0.7071070058051419,0.7071068373618346]"
      ]
     },
     "metadata": {},
     "output_type": "display_data"
    }
   ],
   "source": [
    "take 10 (improve (differentiate 0.5 sin (pi/4)))"
   ]
  },
  {
   "cell_type": "markdown",
   "metadata": {},
   "source": [
    "재미난 점은 이렇게 개선한 수열 역시 같은 속성(`h`를 계속 1/2로 줄이면서 계산한 근사값)을 가지기 때문에 또 개선할 수 있다."
   ]
  },
  {
   "cell_type": "code",
   "execution_count": 30,
   "metadata": {
    "collapsed": false
   },
   "outputs": [
    {
     "data": {
      "text/plain": [
       "[0.707102002667942,0.7071064508806535,0.707106759606181,0.7071067798094111,0.7071067810996304,0.7071067811810969,0.7071067811863712,0.7071067811865736,0.7071067811871704,0.7071067811880204]"
      ]
     },
     "metadata": {},
     "output_type": "display_data"
    }
   ],
   "source": [
    "take 10 (improve (improve (improve (differentiate 0.5 sin (pi/4)))))"
   ]
  },
  {
   "cell_type": "markdown",
   "metadata": {},
   "source": [
    "심지어 수열 자체를 무한히 개선하는 것도 가능하다."
   ]
  },
  {
   "cell_type": "code",
   "execution_count": 31,
   "metadata": {
    "collapsed": true
   },
   "outputs": [],
   "source": [
    "super s = map second (iterate improve s)\n",
    "second (a:b:rest) = b"
   ]
  },
  {
   "cell_type": "code",
   "execution_count": 32,
   "metadata": {
    "collapsed": false
   },
   "outputs": [
    {
     "data": {
      "text/plain": [
       "0.7071067801878829"
      ]
     },
     "metadata": {},
     "output_type": "display_data"
    }
   ],
   "source": [
    "within 1e-6 (super (differentiate 0.5 sin (pi/4)))"
   ]
  },
  {
   "cell_type": "code",
   "execution_count": 36,
   "metadata": {
    "collapsed": false
   },
   "outputs": [
    {
     "data": {
      "text/plain": [
       "[0.611835119448811,0.7104251526808518,0.7071690885603772,0.7071064508806535,0.7071067801878829]"
      ]
     },
     "metadata": {},
     "output_type": "display_data"
    }
   ],
   "source": [
    "take 5 (super (differentiate 0.5 sin (pi/4)))"
   ]
  },
  {
   "cell_type": "markdown",
   "metadata": {},
   "source": [
    "`super`는 매우 복잡한 알고리즘이지만 지연 평가 덕분에 매우 쉽게 표현할 수 있었다."
   ]
  }
 ],
 "metadata": {
  "kernelspec": {
   "display_name": "Haskell",
   "language": "haskell",
   "name": "haskell"
  },
  "language_info": {
   "codemirror_mode": "ihaskell",
   "file_extension": ".hs",
   "name": "haskell",
   "version": "7.10.2"
  }
 },
 "nbformat": 4,
 "nbformat_minor": 0
}
